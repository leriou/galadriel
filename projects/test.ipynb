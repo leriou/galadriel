{
 "cells": [
  {
   "cell_type": "code",
   "execution_count": 13,
   "metadata": {},
   "outputs": [
    {
     "name": "stdout",
     "output_type": "stream",
     "text": [
      "['1\\n', '2\\n', '9\\n', '9\\n', '6\\n', '5\\n', '4\\n', '8\\n', '8\\n', '5\\n', '5\\n', '4\\n', '0\\n', '2\\n', '3\\n', '1\\n', '7\\n', '9\\n']\n"
     ]
    }
   ],
   "source": [
    "from sklearn import neural_network \n",
    "\n",
    "#  \n",
    "\n",
    "def read_train_data(file_name):\n",
    "    x = []\n",
    "    y = []\n",
    "    with open(file_name, \"r+\") as f:\n",
    "        for i in f.readlines():\n",
    "            ns =i.split(\",\")\n",
    "            x.append(ns[:11])\n",
    "            y.append(ns[len(ns)-1])\n",
    "    return (x,y)\n",
    "\n",
    "(x,y) = read_train_data(\"./record.csv\")\n",
    "\n",
    "print(y)\n"
   ]
  }
 ],
 "metadata": {
  "interpreter": {
   "hash": "b0fa6594d8f4cbf19f97940f81e996739fb7646882a419484c72d19e05852a7e"
  },
  "kernelspec": {
   "display_name": "Python 3.9.10 64-bit",
   "language": "python",
   "name": "python3"
  },
  "language_info": {
   "codemirror_mode": {
    "name": "ipython",
    "version": 3
   },
   "file_extension": ".py",
   "mimetype": "text/x-python",
   "name": "python",
   "nbconvert_exporter": "python",
   "pygments_lexer": "ipython3",
   "version": "3.9.10"
  },
  "orig_nbformat": 4
 },
 "nbformat": 4,
 "nbformat_minor": 2
}
