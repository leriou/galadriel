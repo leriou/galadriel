{
 "cells": [
  {
   "cell_type": "code",
   "execution_count": 2,
   "metadata": {},
   "outputs": [
    {
     "name": "stderr",
     "output_type": "stream",
     "text": [
      "Building prefix dict from the default dictionary ...\n",
      "Dumping model to file cache /var/folders/23/wv3l9j5n5w50wcwph10cdks00000gn/T/jieba.cache\n",
      "Loading model cost 0.345 seconds.\n",
      "Prefix dict has been built successfully.\n"
     ]
    },
    {
     "name": "stdout",
     "output_type": "stream",
     "text": [
      "[('And', 1), ('Its', 1), ('Mary', 2), ('That', 1), ('The', 2), ('To', 1), ('above', 1), ('advocate', 1), ('all', 1), ('and', 3), ('as', 1), ('be', 1), ('blessings', 1), ('brown', 1), ('burdens', 1), ('champion', 1), ('defend', 1), ('dogs', 1), ('everywhere', 1), ('fleece', 1), ('for', 2), ('fox', 1), ('giant', 1), ('go', 1), ('grey', 1), ('had', 1), ('honor', 1), ('in', 1), ('jumped', 1), ('lamb', 2), ('lazy', 1), ('leap', 1), ('little', 1), ('man', 1), ('mankind', 1), ('one', 2), ('others', 1), ('over', 1), ('pledge', 1), ('quick', 1), ('share', 1), ('small', 1), ('snow', 1), ('step', 1), ('sure', 1), ('that', 1), ('the', 1), ('to', 3), ('was', 2), ('went', 1), ('white', 1), ('you', 1), ('your', 2), ('yours', 1)]\n"
     ]
    }
   ],
   "source": [
    "import itertools\n",
    "import jieba\n",
    "from collections import Counter\n",
    "\n",
    "\n",
    "class MapReduce:\n",
    "    __doc__ = '''提供map_reduce功能'''\n",
    "\n",
    "    @staticmethod\n",
    "    def map_reduce(i, mapper, reducer):\n",
    "        \"\"\"\n",
    "        map_reduce方法\n",
    "        :param i: 需要MapReduce的集合\n",
    "        :param mapper: 自定义mapper方法\n",
    "        :param reducer: 自定义reducer方法\n",
    "        :return: 以自定义reducer方法的返回值为元素的一个列表\n",
    "        \"\"\"\n",
    "        intermediate = []  # 存放所有的(intermediate_key, intermediate_value)\n",
    "        for (key, value) in i.items():\n",
    "            intermediate.extend(mapper(key, value))\n",
    "\n",
    "        # sorted返回一个排序好的list，因为list中的元素是一个个的tuple，key设定按照tuple中第几个元素排序\n",
    "        # groupby把迭代器中相邻的重复元素挑出来放在一起,key设定按照tuple中第几个元素为关键字来挑选重复元素\n",
    "        # 下面的循环中groupby返回的key是intermediate_key，而group是个list，是1个或多个\n",
    "        # 有着相同intermediate_key的(intermediate_key, intermediate_value)\n",
    "        groups = {}\n",
    "        for key, group in itertools.groupby(sorted(intermediate, key=lambda im: im[0]), key=lambda x: x[0]):\n",
    "            groups[key] = [y for x, y in group]\n",
    "        # groups是一个字典，其key为上面说到的intermediate_key，value为所有对应intermediate_key的intermediate_value\n",
    "        # 组成的一个列表\n",
    "        # print(groups)\n",
    "        return [reducer(intermediate_key, groups[intermediate_key]) for intermediate_key in groups]\n",
    "\n",
    "\n",
    "class test:\n",
    "\n",
    "    def get_most_common_from_text(self, text, n=100):\n",
    "        word_list = [x for x in jieba.cut(text) if len(x) >= 2]\n",
    "        return Counter(word_list).most_common(n)\n",
    "\n",
    "    def map(self, k, v):  # k 文档名, v 文档内容\n",
    "        return self.get_most_common_from_text(v, 10000)\n",
    "\n",
    "    def reducer(self, k, v):  # k 词  v 词出现的次数\n",
    "        return k, sum(v)\n",
    "\n",
    "    def run(self):\n",
    "\n",
    "        i = {\n",
    "            \"a\": \"The quick brown fox jumped over the lazy grey dogs.\",\n",
    "            \"b\": \"That's one small step for a man, one giant leap for mankind.\",\n",
    "            \"c\": \"　　Mary had a little lamb,Its fleece was white as snow;And everywhere that Mary went,The lamb was sure to go\",\n",
    "            \"d\": \"I pledge to honor and defend you and yours above all others\",\n",
    "            \"e\": \"To share in blessings and burdens, to be your advocate, your champion\"\n",
    "        }\n",
    "\n",
    "        t = MapReduce.map_reduce(i, self.map, self.reducer)\n",
    "        print(t)\n",
    "\n",
    "\n",
    "m = test()\n",
    "m.run()\n"
   ]
  },
  {
   "cell_type": "code",
   "execution_count": null,
   "metadata": {},
   "outputs": [],
   "source": []
  }
 ],
 "metadata": {
  "interpreter": {
   "hash": "b0fa6594d8f4cbf19f97940f81e996739fb7646882a419484c72d19e05852a7e"
  },
  "kernelspec": {
   "display_name": "Python 3.8.2 64-bit",
   "language": "python",
   "name": "python3"
  },
  "language_info": {
   "codemirror_mode": {
    "name": "ipython",
    "version": 3
   },
   "file_extension": ".py",
   "mimetype": "text/x-python",
   "name": "python",
   "nbconvert_exporter": "python",
   "pygments_lexer": "ipython3",
   "version": "3.9.9"
  }
 },
 "nbformat": 4,
 "nbformat_minor": 4
}
