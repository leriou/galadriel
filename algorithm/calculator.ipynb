{
 "cells": [
  {
   "cell_type": "code",
   "execution_count": 3,
   "metadata": {},
   "outputs": [
    {
     "name": "stdout",
     "output_type": "stream",
     "text": [
      "age: 28.953531 \n",
      "e为: 2.718282 \n",
      "pi等于: 3.041840 \n"
     ]
    }
   ],
   "source": [
    "import math\n",
    "import time\n",
    "\n",
    "\n",
    "class Calculator:\n",
    "\n",
    "    def __init__(self):\n",
    "        self.num = 10\n",
    "        self.a = 1\n",
    "        self.res = 0\n",
    "\n",
    "    def getPi(self):\n",
    "        for n in range(1, self.num):\n",
    "            m = 1 / (1 + 2 * n)\n",
    "            if n % 2 == 0:\n",
    "                self.a = self.a + m\n",
    "            else:\n",
    "                self.a = self.a - m\n",
    "        return self.a * 4\n",
    "\n",
    "    def getE(self):\n",
    "        for n in range(0, self.num):\n",
    "            self.res = self.res + 1 / math.factorial(n)\n",
    "        return self.res\n",
    "\n",
    "    def getAge(self):\n",
    "        now = time.time()\n",
    "        born_stmp = time.mktime((1993, 1, 29, 23, 0, 0, 0, 0, 0))\n",
    "        age = (now - born_stmp) / (365 * 24 * 3600)\n",
    "        return age\n",
    "\n",
    "\n",
    "c = Calculator()\n",
    "print(\"age: %f \" % c.getAge())\n",
    "print(\"e为: %f \" % c.getE())\n",
    "print(\"pi等于: %f \" % c.getPi())\n"
   ]
  },
  {
   "cell_type": "code",
   "execution_count": null,
   "metadata": {},
   "outputs": [],
   "source": []
  }
 ],
 "metadata": {
  "interpreter": {
   "hash": "b0fa6594d8f4cbf19f97940f81e996739fb7646882a419484c72d19e05852a7e"
  },
  "kernelspec": {
   "display_name": "Python 3.8.2 64-bit",
   "language": "python",
   "name": "python3"
  },
  "language_info": {
   "codemirror_mode": {
    "name": "ipython",
    "version": 3
   },
   "file_extension": ".py",
   "mimetype": "text/x-python",
   "name": "python",
   "nbconvert_exporter": "python",
   "pygments_lexer": "ipython3",
   "version": "3.9.9"
  }
 },
 "nbformat": 4,
 "nbformat_minor": 4
}
