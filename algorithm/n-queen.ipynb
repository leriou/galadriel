{
 "cells": [
  {
   "cell_type": "markdown",
   "metadata": {},
   "source": [
    "nqueen solution"
   ]
  },
  {
   "cell_type": "code",
   "execution_count": null,
   "metadata": {},
   "outputs": [],
   "source": [
    "class Nqueen:\n",
    "\n",
    "    def __init__(self, n):\n",
    "        self.n = n\n",
    "        self.count = 0\n",
    "        self.map = []\n",
    "        for i in range(0, self.n):\n",
    "            self.map.append(0)\n",
    "\n",
    "    def main(self):\n",
    "        self.run(0)\n",
    "        print(\"总共%d种方案\" % self.count)\n",
    "\n",
    "    def run(self, index):\n",
    "        loop = 0\n",
    "        for loop in range(0, self.n):\n",
    "            if self.check(index, loop):\n",
    "                self.map[index] = loop\n",
    "                if self.n - 1 == index:\n",
    "                    self.count += 1\n",
    "                    self.echo()\n",
    "                    return\n",
    "                else:\n",
    "                    self.run(index + 1)\n",
    "\n",
    "    def echo(self):\n",
    "        for i in range(0, self.n):\n",
    "            inner = 0\n",
    "            str = ''\n",
    "            for inner in range(0, self.n):\n",
    "                if inner == self.map[i]:\n",
    "                    str += \"1 \"\n",
    "                else:\n",
    "                    str += \"0 \"\n",
    "            print(str)\n",
    "        print(\"=======================\")\n",
    "\n",
    "    def check(self, loop, value):\n",
    "        for index in range(0, loop):\n",
    "            data = self.map[index]\n",
    "            if value == data:\n",
    "                return 0\n",
    "            if ((index + data) == (loop + value)):\n",
    "                return 0\n",
    "            if ((index - data) == (loop - value)):\n",
    "                return 0\n",
    "        return 1\n",
    "\n",
    "\n",
    "\n",
    "Nqueen(8).main()\n"
   ]
  }
 ],
 "metadata": {
  "interpreter": {
   "hash": "b0fa6594d8f4cbf19f97940f81e996739fb7646882a419484c72d19e05852a7e"
  },
  "kernelspec": {
   "display_name": "Python 3.8.5 64-bit",
   "language": "python",
   "name": "python3"
  },
  "language_info": {
   "codemirror_mode": {
    "name": "ipython",
    "version": 3
   },
   "file_extension": ".py",
   "mimetype": "text/x-python",
   "name": "python",
   "nbconvert_exporter": "python",
   "pygments_lexer": "ipython3",
   "version": "3.9.9"
  }
 },
 "nbformat": 4,
 "nbformat_minor": 4
}
