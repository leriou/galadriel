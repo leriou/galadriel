{
 "cells": [
  {
   "cell_type": "code",
   "execution_count": 1,
   "metadata": {},
   "outputs": [
    {
     "name": "stdout",
     "output_type": "stream",
     "text": [
      "a\n",
      "<function <lambda>.<locals>.<lambda> at 0x106cb0550>\n"
     ]
    }
   ],
   "source": [
    "cons = lambda x,y: (lambda m: m(x,y))\n",
    "car = lambda pair: pair(lambda x,y: x)\n",
    "cdr = lambda pair: pair(lambda x,y: y)\n",
    "cons_ab = cons(\"a\",cons(\"c\",\"d\")) \n",
    "print(car(cons_ab))\n",
    "print(cdr(cons_ab))"
   ]
  }
 ],
 "metadata": {
  "interpreter": {
   "hash": "5edc29c2ed010d6458d71a83433b383a96a8cbd3efe8531bc90c4b8a5b8bcec9"
  },
  "kernelspec": {
   "display_name": "Python 3.8.2 64-bit ('usr')",
   "name": "python3"
  },
  "language_info": {
   "codemirror_mode": {
    "name": "ipython",
    "version": 3
   },
   "file_extension": ".py",
   "mimetype": "text/x-python",
   "name": "python",
   "nbconvert_exporter": "python",
   "pygments_lexer": "ipython3",
   "version": "3.9.9"
  },
  "widgets": {
   "application/vnd.jupyter.widget-state+json": {
    "state": {},
    "version_major": 2,
    "version_minor": 0
   }
  }
 },
 "nbformat": 4,
 "nbformat_minor": 4
}
